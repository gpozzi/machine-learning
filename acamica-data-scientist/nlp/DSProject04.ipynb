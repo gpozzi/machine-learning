{
 "cells": [
  {
   "cell_type": "markdown",
   "metadata": {},
   "source": [
    "# 1. Scope\n",
    "The objective of this document will be to expand the model obtained in iteration I, by rethinking the problem as a binary classification (positive / negative) of the reviews instead of a 5 star scale. The model error is expected to be substantially reduced.\n",
    "\n",
    "In the first place and for information purposes, results of **`iteration I`** will be recapped. Then, some steps will be modified to adapt the methodology to the new approach.\n",
    "\n",
    "Additionally, an algorithm will be applied to 3-star reviews to see if they are mostly positive or negative reviews. This will show if users \"forgive\" the quality of some product category more than another, or if there is a bias in product rating.\n",
    "\n",
    "Finally, an analysis of the conclusions obtained and a meta-analysis of the applied methodology will be carried out."
   ]
  },
  {
   "cell_type": "markdown",
   "metadata": {},
   "source": [
    "# 2. Recap: iteration I"
   ]
  },
  {
   "cell_type": "markdown",
   "metadata": {},
   "source": [
    "The first iteration starts with a comprehensive `EDA` and preprocessing, which includes text normalization through SpaCy pipeline (`tok2vec`, `morphologizer`, `parser`, `ner`, `attribute_ruler` and `lemmatizer`), stopwords removal and lemmatization in order to improve model's accuracy. Then, a performance metric has been selected.\n",
    "  \n",
    "After that, a benchmark model has been developed and compared with other two other models in order to determine the best performing one. The one that showed the best accuracy has had its hyperparameters optimized and finally some conclusions have been made about the performance and the methodology applied.\n",
    "\n",
    "### Results\n",
    "- Selected metric: **`accuracy`**\n",
    "- Best performing method: **`LinearSVC`**. Hyperparameters: `C`: **1**; `loss`: **squared_hinge**; `penalty`: **l2**; `tol`: **0.0001**\n",
    "- Accuracy LinearSVC without optimization on test: **0.5252**\n",
    "- Tf-idf optimization method: *changing n-gram range from unigram to trigram*\n",
    "- Optimization technique: **`GridsearchCV`**\n",
    "- Optimized hyperparameters for LinearSVC: `C`: **10**; `loss`: **squared_hinge**; `penalty`: **l2**; `tol`: **0.01**\n",
    "- Accuracy LinearSVC optimized: **0.5427**"
   ]
  },
  {
   "cell_type": "markdown",
   "metadata": {},
   "source": [
    "# 3. Iteration II - Model repurposing"
   ]
  },
  {
   "cell_type": "markdown",
   "metadata": {},
   "source": [
    "## Motivation: The 5-star scale problem\n",
    "\n",
    "The 5-star reputation system, although it can provide more detailed information than the binary classification, has some limitations:\n",
    "- In product *marketplaces* (as in the case of Amazon) it is very practical to separate bad products from those that are not, although it tends to present difficulties in separating very good products from those that are just good.\n",
    "- Users do not have incentives to provide feedback for \"average\" experiences (neither good nor bad), so they generate selection biases (fewer intermediate reviews)\n",
    "- There will always be subjective biases for the interpretation of intermediate reviews and the score that each product deserves. This can depend on the personal interpretation of the quality or to the amount of experiences a user had with a certain type of product.\n",
    "\n",
    "It is clear that although these systems are more ambitious since they intend to know the opinions of users with greater granularity, the results lose precision and the added value of this greater detail ends up not being so significant.\n",
    "\n",
    "Due to these issues, services such as YouTube or Netflix have abandoned the star system in favor of other binaries (thumbs up / down), as well as other social networks that started using likes / upvotes systems. What these systems lose in detail they gain in the robustness of the evaluation of their publications"
   ]
  },
  {
   "cell_type": "markdown",
   "metadata": {},
   "source": [
    "## Preprocessing"
   ]
  },
  {
   "cell_type": "markdown",
   "metadata": {},
   "source": [
    "I will first load relevant libraries"
   ]
  },
  {
   "cell_type": "code",
   "execution_count": 1,
   "metadata": {
    "colab": {},
    "colab_type": "code",
    "id": "x1GFwraSISFB"
   },
   "outputs": [],
   "source": [
    "import pandas as pd\n",
    "pd.options.mode.chained_assignment = None\n",
    "import seaborn as sns\n",
    "import nltk\n",
    "import matplotlib.pyplot as plt\n",
    "import random\n",
    "\n",
    "import es_core_news_sm\n",
    "\n",
    "from collections import Counter\n",
    "import itertools\n",
    "\n",
    "from nltk.tokenize import RegexpTokenizer\n",
    "from nltk.corpus import stopwords\n",
    "\n",
    "from sklearn.feature_extraction.text import TfidfVectorizer\n",
    "from sklearn.naive_bayes import GaussianNB\n",
    "from sklearn.metrics import accuracy_score\n",
    "from sklearn.metrics import confusion_matrix\n",
    "from sklearn.ensemble import RandomForestClassifier\n",
    "from sklearn.svm import LinearSVC\n",
    "from sklearn.model_selection import GridSearchCV\n",
    "from sklearn.model_selection import RandomizedSearchCV\n",
    "from sklearn.model_selection import train_test_split\n",
    "from sklearn import metrics"
   ]
  },
  {
   "cell_type": "markdown",
   "metadata": {},
   "source": [
    "Dataset load"
   ]
  },
  {
   "cell_type": "code",
   "execution_count": 2,
   "metadata": {},
   "outputs": [],
   "source": [
    "df_p4 = pd.read_json('dataset_es_dev.json',lines=True)\n",
    "df_test_p4 = pd.read_json('dataset_es_test.json',lines=True)\n",
    "df_train_p4 = pd.read_json('dataset_es_train.json',lines=True)"
   ]
  },
  {
   "cell_type": "markdown",
   "metadata": {},
   "source": [
    "To facilitate data processing, I will join the reviews with their titles in the same column (`whole_review`), making the text lower case, eliminating the `review_body` and `review_title` attributes containing this information separately and discarding all other columns."
   ]
  },
  {
   "cell_type": "code",
   "execution_count": 3,
   "metadata": {},
   "outputs": [],
   "source": [
    "df_p4['full_review'] = df_p4['review_title'] + ' ' + df_p4['review_body']\n",
    "df_p4['full_review'] = df_p4['full_review'].str.lower()\n",
    "df_no3s_p4 = df_p4[df_p4.stars != 3]\n",
    "df_p4 = df_p4.drop(columns=['language', 'product_id', 'reviewer_id', 'review_body', 'review_title'])\n",
    "\n",
    "df_test_p4['full_review'] = df_test_p4['review_title'] + ' ' + df_test_p4['review_body']\n",
    "df_test_p4['full_review'] = df_test_p4['full_review'].str.lower()\n",
    "df_test_p4 = df_test_p4.drop(columns=['language', 'product_id', 'reviewer_id', 'review_body', 'review_title'])\n",
    "\n",
    "df_train_p4['full_review'] = df_train_p4['review_title'] + ' ' + df_train_p4['review_body']\n",
    "df_train_p4['full_review'] = df_train_p4['full_review'].str.lower()\n",
    "df_train_p4 = df_train_p4.drop(columns=['language', 'product_id','reviewer_id', 'review_body', 'review_title'])"
   ]
  },
  {
   "cell_type": "markdown",
   "metadata": {},
   "source": [
    "In the next cell:\n",
    "- I will load the `pipeline` in Spanish of **`spaCy`**. This, as can be seen in the diagram below, applies some transformations to the text that we pass through it. According to its documentation, the applied transformations are: `tok2vec`, `morphologizer`, `parser`, `ner`, `attribute_ruler` and `lemmatizer`.\n",
    "\n",
    "<img src=\"https://d33wubrfki0l68.cloudfront.net/3ad0582d97663a1272ffc4ccf09f1c5b335b17e9/7f49c/pipeline-fde48da9b43661abcdf62ab70a546d71.svg\" alt=\"Drawing\" style=\"width: 600px;\"/>\n",
    "\n",
    "- I will load the common words (stopwords) in Spanish and then filter them"
   ]
  },
  {
   "cell_type": "code",
   "execution_count": 4,
   "metadata": {},
   "outputs": [],
   "source": [
    "nlp = es_core_news_sm.load()\n",
    "\n",
    "sw = nlp.Defaults.stop_words"
   ]
  },
  {
   "cell_type": "markdown",
   "metadata": {},
   "source": [
    "Through the following function I will apply **`normalization`** to the text of each row. This includes:\n",
    "- The preprocessing mentioned above with `nlp`\n",
    "- All words will become lowercase\n",
    "- Commas, periods and 1-letter words will be eliminated (for example \"y\" [eng: *and*], \"a\" [eng: *to*], etc)\n",
    "- The `stopwords` will be removed. These are words that are meaningless on their own, such as prepositions, articles, conjunctions, pronouns, etc.\n",
    "\n",
    "The objective of this preprocessing, which will reduce text noise by eliminating inflectional and sometimes derivationally related forms to a common base *, is to facilitate the subsequent analysis of each review using classification algorithms. In this way, the number of stars that a user would give a product given a review can be predicted with greater precision.\n",
    "\n",
    "\\* \"**Stemming and lemmatization\", Stanford, Cambridge University Press, 2008, https://nlp.stanford.edu/IR-book/html/htmledition/stemming-and-lemmatization-1.html**"
   ]
  },
  {
   "cell_type": "code",
   "execution_count": 5,
   "metadata": {},
   "outputs": [],
   "source": [
    "def process(text):\n",
    "    review_tk = nltk.RegexpTokenizer('\\w+').tokenize(text)\n",
    "    review_tk_min = [word.lower() for word in review_tk if word.lower() not in sw]\n",
    "    review_clean = ' '.join(review_tk_min)\n",
    "    review_clean = nlp(review_clean)\n",
    "    review_lemm = [word.lemma_ for word in review_clean]\n",
    "    review_lemm = [t for t in review_lemm if len(t)>1]\n",
    "    return review_lemm"
   ]
  },
  {
   "cell_type": "markdown",
   "metadata": {},
   "source": [
    "I apply the processing to the 3 dataframes separately"
   ]
  },
  {
   "cell_type": "code",
   "execution_count": 6,
   "metadata": {},
   "outputs": [],
   "source": [
    "df_p4['full_review_tk'] = df_p4.apply(lambda row: process(row['full_review']), axis=1)\n",
    "df_test_p4['full_review_tk'] = df_test_p4.apply(lambda row: process(row['full_review']), axis=1)\n",
    "df_train_p4['full_review_tk'] = df_train_p4.apply(lambda row: process(row['full_review']), axis=1)"
   ]
  },
  {
   "cell_type": "markdown",
   "metadata": {},
   "source": [
    "I save the results again in **`.xlsx`** files as a checkpoint"
   ]
  },
  {
   "cell_type": "code",
   "execution_count": 7,
   "metadata": {},
   "outputs": [],
   "source": [
    "df_p4.to_excel('ml_df.xlsx')\n",
    "df_test_p4.to_excel('ml_df_test.xlsx')\n",
    "df_train_p4.to_excel('ml_df_train.xlsx')"
   ]
  },
  {
   "cell_type": "code",
   "execution_count": 8,
   "metadata": {},
   "outputs": [
    {
     "data": {
      "text/html": [
       "<div>\n",
       "<style scoped>\n",
       "    .dataframe tbody tr th:only-of-type {\n",
       "        vertical-align: middle;\n",
       "    }\n",
       "\n",
       "    .dataframe tbody tr th {\n",
       "        vertical-align: top;\n",
       "    }\n",
       "\n",
       "    .dataframe thead th {\n",
       "        text-align: right;\n",
       "    }\n",
       "</style>\n",
       "<table border=\"1\" class=\"dataframe\">\n",
       "  <thead>\n",
       "    <tr style=\"text-align: right;\">\n",
       "      <th></th>\n",
       "      <th>review_id</th>\n",
       "      <th>stars</th>\n",
       "      <th>product_category</th>\n",
       "      <th>full_review</th>\n",
       "      <th>full_review_tk</th>\n",
       "    </tr>\n",
       "  </thead>\n",
       "  <tbody>\n",
       "    <tr>\n",
       "      <th>0</th>\n",
       "      <td>es_0417480</td>\n",
       "      <td>1</td>\n",
       "      <td>wireless</td>\n",
       "      <td>mala compra malisimo, muy grande demasiado apa...</td>\n",
       "      <td>[malo, compra, malisimo, grande, aparatoso, pr...</td>\n",
       "    </tr>\n",
       "    <tr>\n",
       "      <th>1</th>\n",
       "      <td>es_0180432</td>\n",
       "      <td>1</td>\n",
       "      <td>apparel</td>\n",
       "      <td>no lo he recibido no he recibido el pedido no ...</td>\n",
       "      <td>[recibido, recibido, pedido, devolución]</td>\n",
       "    </tr>\n",
       "    <tr>\n",
       "      <th>2</th>\n",
       "      <td>es_0144850</td>\n",
       "      <td>1</td>\n",
       "      <td>sports</td>\n",
       "      <td>que no aprieta bien en el manillar tengo que b...</td>\n",
       "      <td>[aprieta, manillar, buscar, sistema, funcionar...</td>\n",
       "    </tr>\n",
       "    <tr>\n",
       "      <th>3</th>\n",
       "      <td>es_0339629</td>\n",
       "      <td>1</td>\n",
       "      <td>home_improvement</td>\n",
       "      <td>brocas de mantequilla utilicé las brocas de me...</td>\n",
       "      <td>[broca, mantequillar, utilicé, broca, menor, d...</td>\n",
       "    </tr>\n",
       "    <tr>\n",
       "      <th>4</th>\n",
       "      <td>es_0858362</td>\n",
       "      <td>1</td>\n",
       "      <td>beauty</td>\n",
       "      <td>no me gusta no me gusta su olor a viejo y aspe...</td>\n",
       "      <td>[gustar, gusta, olor, viejo, aspecto, malo]</td>\n",
       "    </tr>\n",
       "  </tbody>\n",
       "</table>\n",
       "</div>"
      ],
      "text/plain": [
       "    review_id  stars  product_category  \\\n",
       "0  es_0417480      1          wireless   \n",
       "1  es_0180432      1           apparel   \n",
       "2  es_0144850      1            sports   \n",
       "3  es_0339629      1  home_improvement   \n",
       "4  es_0858362      1            beauty   \n",
       "\n",
       "                                         full_review  \\\n",
       "0  mala compra malisimo, muy grande demasiado apa...   \n",
       "1  no lo he recibido no he recibido el pedido no ...   \n",
       "2  que no aprieta bien en el manillar tengo que b...   \n",
       "3  brocas de mantequilla utilicé las brocas de me...   \n",
       "4  no me gusta no me gusta su olor a viejo y aspe...   \n",
       "\n",
       "                                      full_review_tk  \n",
       "0  [malo, compra, malisimo, grande, aparatoso, pr...  \n",
       "1           [recibido, recibido, pedido, devolución]  \n",
       "2  [aprieta, manillar, buscar, sistema, funcionar...  \n",
       "3  [broca, mantequillar, utilicé, broca, menor, d...  \n",
       "4        [gustar, gusta, olor, viejo, aspecto, malo]  "
      ]
     },
     "execution_count": 8,
     "metadata": {},
     "output_type": "execute_result"
    }
   ],
   "source": [
    "df_p4.head(5)"
   ]
  },
  {
   "cell_type": "code",
   "execution_count": 9,
   "metadata": {},
   "outputs": [],
   "source": [
    "df_p4['full_review_tk'] = df_p4['full_review'].apply(str)\n",
    "df_test_p4['full_review_tk'] = df_test_p4['full_review'].apply(str)\n",
    "df_train_p4['full_review_tk'] = df_train_p4['full_review'].apply(str)"
   ]
  },
  {
   "cell_type": "markdown",
   "metadata": {},
   "source": [
    "Next, I remove the 3-star reviews from the dataset to keep it balanced and be able to work on the more clearly positive / negative ones, replacing the 2-star rating with 1-star and the 4-star by 5-star. Also I remove the `full_review` column without tokenizing. On this reduced dataset I will work to train the new model"
   ]
  },
  {
   "cell_type": "code",
   "execution_count": 10,
   "metadata": {},
   "outputs": [],
   "source": [
    "df_p4_no3s = df_p4[df_p4.stars != 3]\n",
    "df_test_p4_no3s = df_test_p4[df_test_p4.stars != 3]\n",
    "df_train_p4_no3s = df_train_p4[df_train_p4.stars != 3]\n",
    "\n",
    "df_p4_no3s['stars'] = df_p4_no3s['stars'].replace(2,1)\n",
    "df_p4_no3s['stars'] = df_p4_no3s['stars'].replace(4,5)\n",
    "\n",
    "df_test_p4_no3s['stars'] = df_test_p4_no3s['stars'].replace(2,1)\n",
    "df_test_p4_no3s['stars'] = df_test_p4_no3s['stars'].replace(4,5)\n",
    "\n",
    "df_train_p4_no3s['stars'] = df_train_p4_no3s['stars'].replace(2,1)\n",
    "df_train_p4_no3s['stars'] = df_train_p4_no3s['stars'].replace(4,5)\n",
    "\n",
    "df_p4_no3s = df_p4_no3s.drop(columns=['full_review'])\n",
    "df_test_p4_no3s = df_test_p4_no3s.drop(columns=['full_review'])\n",
    "df_train_p4_no3s = df_train_p4_no3s.drop(columns=['full_review'])"
   ]
  },
  {
   "cell_type": "markdown",
   "metadata": {},
   "source": [
    "## Vectorization"
   ]
  },
  {
   "cell_type": "markdown",
   "metadata": {},
   "source": [
    "I then vectorize the text through **`Tf-idf`** to be able to process text through machine learning"
   ]
  },
  {
   "cell_type": "code",
   "execution_count": 11,
   "metadata": {},
   "outputs": [
    {
     "name": "stdout",
     "output_type": "stream",
     "text": [
      "Train (160000, 744)\n",
      "Test (4000, 744)\n",
      "Data (4000, 744)\n"
     ]
    }
   ],
   "source": [
    "review_list_test = list(df_test_p4_no3s['full_review_tk'].values)\n",
    "score_test = df_test_p4_no3s['stars'].values\n",
    "\n",
    "review_list_train = list(df_train_p4_no3s['full_review_tk'].values)\n",
    "score_train = df_train_p4_no3s['stars'].values \n",
    "\n",
    "review_list = list(df_p4_no3s['full_review_tk'].values)\n",
    "score = df_p4_no3s['stars'].values \n",
    "\n",
    "#TfidfVectorizer\n",
    "tfidf = TfidfVectorizer(ngram_range=(1, 3), max_features=1000, min_df=30)\n",
    "\n",
    "# Compute the word counts, idf and tf-idf values all at once\n",
    "review_matrix_test = tfidf.fit_transform(review_list_test)\n",
    "review_matrix_train = tfidf.transform(review_list_train)\n",
    "review_matrix = tfidf.transform(review_list)\n",
    "\n",
    "print('Train', review_matrix_train.shape)\n",
    "print('Test', review_matrix_test.shape)\n",
    "print('Data', review_matrix.shape)"
   ]
  },
  {
   "cell_type": "code",
   "execution_count": 12,
   "metadata": {},
   "outputs": [],
   "source": [
    "review_matrix_train = review_matrix_train.astype('float32')\n",
    "score_train = score_train.astype('int8')\n",
    "\n",
    "review_matrix_test = review_matrix_test.astype('float32')\n",
    "score_test = score_test.astype('int8')\n",
    "\n",
    "review_matrix = review_matrix.astype('float32')\n",
    "score = score.astype('int8')"
   ]
  },
  {
   "cell_type": "markdown",
   "metadata": {},
   "source": [
    "Set test and train matrices"
   ]
  },
  {
   "cell_type": "code",
   "execution_count": 13,
   "metadata": {},
   "outputs": [],
   "source": [
    "#TRAIN\n",
    "X_train = review_matrix_train.toarray()\n",
    "y_train = score_train\n",
    "\n",
    "#TEST\n",
    "X_test = review_matrix_test.toarray()\n",
    "y_test = score_test\n",
    "\n",
    "#DATA\n",
    "X = review_matrix.toarray()\n",
    "y = score"
   ]
  },
  {
   "cell_type": "markdown",
   "metadata": {},
   "source": [
    "## Model training and optimization"
   ]
  },
  {
   "cell_type": "markdown",
   "metadata": {},
   "source": [
    "Next, I will train the `LinearSVC` model using as a starting point the hyperparameters obtained in iteration I:\n",
    "\n",
    "- `C`: **10**\n",
    "- `loss`: **'squared_hinge'**\n",
    "- `penalty`: **'l2'**\n",
    "- `tol`: **0.01**"
   ]
  },
  {
   "cell_type": "code",
   "execution_count": 14,
   "metadata": {},
   "outputs": [
    {
     "name": "stdout",
     "output_type": "stream",
     "text": [
      "Accuracy train binary LinearSVC:  0.902525\n",
      "Accuracy test binary LinearSVC:  0.9015\n"
     ]
    }
   ],
   "source": [
    "svc = LinearSVC(C=10,loss='squared_hinge',penalty='l2',tol = 0.01)\n",
    "svc.fit(X_train, y_train)\n",
    "\n",
    "y_train_pred= svc.predict(X_train)\n",
    "y_test_pred = svc.predict(X_test)\n",
    "\n",
    "print(\"Accuracy train binary LinearSVC: \", accuracy_score(y_train, y_train_pred))\n",
    "print(\"Accuracy test binary LinearSVC: \", accuracy_score(y_test, y_test_pred))"
   ]
  },
  {
   "cell_type": "markdown",
   "metadata": {},
   "source": [
    "As expected, by reducing the complexity of the model, the accuracy increased significantly."
   ]
  },
  {
   "cell_type": "code",
   "execution_count": 15,
   "metadata": {},
   "outputs": [
    {
     "data": {
      "image/png": "[encoded data removed]",
      "text/plain": [
       "<Figure size 576x576 with 2 Axes>"
      ]
     },
     "metadata": {
      "needs_background": "light"
     },
     "output_type": "display_data"
    }
   ],
   "source": [
    "score = [\"Positive\",\"Negative\"]\n",
    "cm = confusion_matrix(y_test,y_test_pred)\n",
    "f,ax = plt.subplots(figsize=(8,8))\n",
    "sns.heatmap(cm, square = True, annot=True, fmt= '.0f',annot_kws={'size': 13}, cmap= 'RdYlGn',ax=ax)\n",
    "\n",
    "plt.xlabel(\"Actual\", size =20)\n",
    "plt.ylabel(\"Predicted\", size =20)\n",
    "ax.set_xticklabels(score)\n",
    "ax.set_yticklabels(score)\n",
    "plt.show()"
   ]
  },
  {
   "cell_type": "markdown",
   "metadata": {},
   "source": [
    "We can see that the model tends to generate more false negatives, although the error is broadly balanced.\n",
    "\n",
    "I will optimize its hyperparameters by using the same method as in Iteration I (`GridSearchCV`)"
   ]
  },
  {
   "cell_type": "code",
   "execution_count": 16,
   "metadata": {},
   "outputs": [
    {
     "name": "stderr",
     "output_type": "stream",
     "text": [
      "C:\\Users\\gpozz\\.conda\\envs\\Datascience\\lib\\site-packages\\sklearn\\model_selection\\_validation.py:536: FitFailedWarning: Estimator fit failed. The score on this train-test partition for these parameters will be set to 0.000000. Details: \n",
      "ValueError: Unsupported set of arguments: The combination of penalty='l1' and loss='hinge' is not supported, Parameters: penalty='l1', loss='hinge', dual=True\n",
      "\n",
      "  FitFailedWarning)\n",
      "C:\\Users\\gpozz\\.conda\\envs\\Datascience\\lib\\site-packages\\sklearn\\model_selection\\_validation.py:536: FitFailedWarning: Estimator fit failed. The score on this train-test partition for these parameters will be set to 0.000000. Details: \n",
      "ValueError: Unsupported set of arguments: The combination of penalty='l1' and loss='hinge' is not supported, Parameters: penalty='l1', loss='hinge', dual=True\n",
      "\n",
      "  FitFailedWarning)\n",
      "C:\\Users\\gpozz\\.conda\\envs\\Datascience\\lib\\site-packages\\sklearn\\model_selection\\_validation.py:536: FitFailedWarning: Estimator fit failed. The score on this train-test partition for these parameters will be set to 0.000000. Details: \n",
      "ValueError: Unsupported set of arguments: The combination of penalty='l1' and loss='hinge' is not supported, Parameters: penalty='l1', loss='hinge', dual=True\n",
      "\n",
      "  FitFailedWarning)\n",
      "C:\\Users\\gpozz\\.conda\\envs\\Datascience\\lib\\site-packages\\sklearn\\model_selection\\_validation.py:536: FitFailedWarning: Estimator fit failed. The score on this train-test partition for these parameters will be set to 0.000000. Details: \n",
      "ValueError: Unsupported set of arguments: The combination of penalty='l1' and loss='hinge' is not supported, Parameters: penalty='l1', loss='hinge', dual=True\n",
      "\n",
      "  FitFailedWarning)\n",
      "C:\\Users\\gpozz\\.conda\\envs\\Datascience\\lib\\site-packages\\sklearn\\model_selection\\_validation.py:536: FitFailedWarning: Estimator fit failed. The score on this train-test partition for these parameters will be set to 0.000000. Details: \n",
      "ValueError: Unsupported set of arguments: The combination of penalty='l1' and loss='squared_hinge' are not supported when dual=True, Parameters: penalty='l1', loss='squared_hinge', dual=True\n",
      "\n",
      "  FitFailedWarning)\n",
      "C:\\Users\\gpozz\\.conda\\envs\\Datascience\\lib\\site-packages\\sklearn\\model_selection\\_validation.py:536: FitFailedWarning: Estimator fit failed. The score on this train-test partition for these parameters will be set to 0.000000. Details: \n",
      "ValueError: Unsupported set of arguments: The combination of penalty='l1' and loss='squared_hinge' are not supported when dual=True, Parameters: penalty='l1', loss='squared_hinge', dual=True\n",
      "\n",
      "  FitFailedWarning)\n",
      "C:\\Users\\gpozz\\.conda\\envs\\Datascience\\lib\\site-packages\\sklearn\\model_selection\\_validation.py:536: FitFailedWarning: Estimator fit failed. The score on this train-test partition for these parameters will be set to 0.000000. Details: \n",
      "ValueError: Unsupported set of arguments: The combination of penalty='l1' and loss='squared_hinge' are not supported when dual=True, Parameters: penalty='l1', loss='squared_hinge', dual=True\n",
      "\n",
      "  FitFailedWarning)\n",
      "C:\\Users\\gpozz\\.conda\\envs\\Datascience\\lib\\site-packages\\sklearn\\model_selection\\_validation.py:536: FitFailedWarning: Estimator fit failed. The score on this train-test partition for these parameters will be set to 0.000000. Details: \n",
      "ValueError: Unsupported set of arguments: The combination of penalty='l1' and loss='squared_hinge' are not supported when dual=True, Parameters: penalty='l1', loss='squared_hinge', dual=True\n",
      "\n",
      "  FitFailedWarning)\n",
      "C:\\Users\\gpozz\\.conda\\envs\\Datascience\\lib\\site-packages\\sklearn\\model_selection\\_validation.py:536: FitFailedWarning: Estimator fit failed. The score on this train-test partition for these parameters will be set to 0.000000. Details: \n",
      "ValueError: Unsupported set of arguments: The combination of penalty='l1' and loss='hinge' is not supported, Parameters: penalty='l1', loss='hinge', dual=True\n",
      "\n",
      "  FitFailedWarning)\n",
      "C:\\Users\\gpozz\\.conda\\envs\\Datascience\\lib\\site-packages\\sklearn\\model_selection\\_validation.py:536: FitFailedWarning: Estimator fit failed. The score on this train-test partition for these parameters will be set to 0.000000. Details: \n",
      "ValueError: Unsupported set of arguments: The combination of penalty='l1' and loss='hinge' is not supported, Parameters: penalty='l1', loss='hinge', dual=True\n",
      "\n",
      "  FitFailedWarning)\n",
      "C:\\Users\\gpozz\\.conda\\envs\\Datascience\\lib\\site-packages\\sklearn\\model_selection\\_validation.py:536: FitFailedWarning: Estimator fit failed. The score on this train-test partition for these parameters will be set to 0.000000. Details: \n",
      "ValueError: Unsupported set of arguments: The combination of penalty='l1' and loss='hinge' is not supported, Parameters: penalty='l1', loss='hinge', dual=True\n",
      "\n",
      "  FitFailedWarning)\n",
      "C:\\Users\\gpozz\\.conda\\envs\\Datascience\\lib\\site-packages\\sklearn\\model_selection\\_validation.py:536: FitFailedWarning: Estimator fit failed. The score on this train-test partition for these parameters will be set to 0.000000. Details: \n",
      "ValueError: Unsupported set of arguments: The combination of penalty='l1' and loss='hinge' is not supported, Parameters: penalty='l1', loss='hinge', dual=True\n",
      "\n",
      "  FitFailedWarning)\n",
      "C:\\Users\\gpozz\\.conda\\envs\\Datascience\\lib\\site-packages\\sklearn\\svm\\_base.py:947: ConvergenceWarning: Liblinear failed to converge, increase the number of iterations.\n",
      "  \"the number of iterations.\", ConvergenceWarning)\n",
      "C:\\Users\\gpozz\\.conda\\envs\\Datascience\\lib\\site-packages\\sklearn\\svm\\_base.py:947: ConvergenceWarning: Liblinear failed to converge, increase the number of iterations.\n",
      "  \"the number of iterations.\", ConvergenceWarning)\n",
      "C:\\Users\\gpozz\\.conda\\envs\\Datascience\\lib\\site-packages\\sklearn\\svm\\_base.py:947: ConvergenceWarning: Liblinear failed to converge, increase the number of iterations.\n",
      "  \"the number of iterations.\", ConvergenceWarning)\n",
      "C:\\Users\\gpozz\\.conda\\envs\\Datascience\\lib\\site-packages\\sklearn\\svm\\_base.py:947: ConvergenceWarning: Liblinear failed to converge, increase the number of iterations.\n",
      "  \"the number of iterations.\", ConvergenceWarning)\n",
      "C:\\Users\\gpozz\\.conda\\envs\\Datascience\\lib\\site-packages\\sklearn\\model_selection\\_validation.py:536: FitFailedWarning: Estimator fit failed. The score on this train-test partition for these parameters will be set to 0.000000. Details: \n",
      "ValueError: Unsupported set of arguments: The combination of penalty='l1' and loss='squared_hinge' are not supported when dual=True, Parameters: penalty='l1', loss='squared_hinge', dual=True\n",
      "\n",
      "  FitFailedWarning)\n",
      "C:\\Users\\gpozz\\.conda\\envs\\Datascience\\lib\\site-packages\\sklearn\\model_selection\\_validation.py:536: FitFailedWarning: Estimator fit failed. The score on this train-test partition for these parameters will be set to 0.000000. Details: \n",
      "ValueError: Unsupported set of arguments: The combination of penalty='l1' and loss='squared_hinge' are not supported when dual=True, Parameters: penalty='l1', loss='squared_hinge', dual=True\n",
      "\n",
      "  FitFailedWarning)\n",
      "C:\\Users\\gpozz\\.conda\\envs\\Datascience\\lib\\site-packages\\sklearn\\model_selection\\_validation.py:536: FitFailedWarning: Estimator fit failed. The score on this train-test partition for these parameters will be set to 0.000000. Details: \n",
      "ValueError: Unsupported set of arguments: The combination of penalty='l1' and loss='squared_hinge' are not supported when dual=True, Parameters: penalty='l1', loss='squared_hinge', dual=True\n",
      "\n",
      "  FitFailedWarning)\n",
      "C:\\Users\\gpozz\\.conda\\envs\\Datascience\\lib\\site-packages\\sklearn\\model_selection\\_validation.py:536: FitFailedWarning: Estimator fit failed. The score on this train-test partition for these parameters will be set to 0.000000. Details: \n",
      "ValueError: Unsupported set of arguments: The combination of penalty='l1' and loss='squared_hinge' are not supported when dual=True, Parameters: penalty='l1', loss='squared_hinge', dual=True\n",
      "\n",
      "  FitFailedWarning)\n",
      "C:\\Users\\gpozz\\.conda\\envs\\Datascience\\lib\\site-packages\\sklearn\\model_selection\\_validation.py:536: FitFailedWarning: Estimator fit failed. The score on this train-test partition for these parameters will be set to 0.000000. Details: \n",
      "ValueError: Unsupported set of arguments: The combination of penalty='l1' and loss='hinge' is not supported, Parameters: penalty='l1', loss='hinge', dual=True\n",
      "\n",
      "  FitFailedWarning)\n"
     ]
    },
    {
     "name": "stderr",
     "output_type": "stream",
     "text": [
      "C:\\Users\\gpozz\\.conda\\envs\\Datascience\\lib\\site-packages\\sklearn\\model_selection\\_validation.py:536: FitFailedWarning: Estimator fit failed. The score on this train-test partition for these parameters will be set to 0.000000. Details: \n",
      "ValueError: Unsupported set of arguments: The combination of penalty='l1' and loss='hinge' is not supported, Parameters: penalty='l1', loss='hinge', dual=True\n",
      "\n",
      "  FitFailedWarning)\n",
      "C:\\Users\\gpozz\\.conda\\envs\\Datascience\\lib\\site-packages\\sklearn\\model_selection\\_validation.py:536: FitFailedWarning: Estimator fit failed. The score on this train-test partition for these parameters will be set to 0.000000. Details: \n",
      "ValueError: Unsupported set of arguments: The combination of penalty='l1' and loss='hinge' is not supported, Parameters: penalty='l1', loss='hinge', dual=True\n",
      "\n",
      "  FitFailedWarning)\n",
      "C:\\Users\\gpozz\\.conda\\envs\\Datascience\\lib\\site-packages\\sklearn\\model_selection\\_validation.py:536: FitFailedWarning: Estimator fit failed. The score on this train-test partition for these parameters will be set to 0.000000. Details: \n",
      "ValueError: Unsupported set of arguments: The combination of penalty='l1' and loss='hinge' is not supported, Parameters: penalty='l1', loss='hinge', dual=True\n",
      "\n",
      "  FitFailedWarning)\n",
      "C:\\Users\\gpozz\\.conda\\envs\\Datascience\\lib\\site-packages\\sklearn\\svm\\_base.py:947: ConvergenceWarning: Liblinear failed to converge, increase the number of iterations.\n",
      "  \"the number of iterations.\", ConvergenceWarning)\n",
      "C:\\Users\\gpozz\\.conda\\envs\\Datascience\\lib\\site-packages\\sklearn\\svm\\_base.py:947: ConvergenceWarning: Liblinear failed to converge, increase the number of iterations.\n",
      "  \"the number of iterations.\", ConvergenceWarning)\n",
      "C:\\Users\\gpozz\\.conda\\envs\\Datascience\\lib\\site-packages\\sklearn\\svm\\_base.py:947: ConvergenceWarning: Liblinear failed to converge, increase the number of iterations.\n",
      "  \"the number of iterations.\", ConvergenceWarning)\n",
      "C:\\Users\\gpozz\\.conda\\envs\\Datascience\\lib\\site-packages\\sklearn\\svm\\_base.py:947: ConvergenceWarning: Liblinear failed to converge, increase the number of iterations.\n",
      "  \"the number of iterations.\", ConvergenceWarning)\n",
      "C:\\Users\\gpozz\\.conda\\envs\\Datascience\\lib\\site-packages\\sklearn\\model_selection\\_validation.py:536: FitFailedWarning: Estimator fit failed. The score on this train-test partition for these parameters will be set to 0.000000. Details: \n",
      "ValueError: Unsupported set of arguments: The combination of penalty='l1' and loss='squared_hinge' are not supported when dual=True, Parameters: penalty='l1', loss='squared_hinge', dual=True\n",
      "\n",
      "  FitFailedWarning)\n",
      "C:\\Users\\gpozz\\.conda\\envs\\Datascience\\lib\\site-packages\\sklearn\\model_selection\\_validation.py:536: FitFailedWarning: Estimator fit failed. The score on this train-test partition for these parameters will be set to 0.000000. Details: \n",
      "ValueError: Unsupported set of arguments: The combination of penalty='l1' and loss='squared_hinge' are not supported when dual=True, Parameters: penalty='l1', loss='squared_hinge', dual=True\n",
      "\n",
      "  FitFailedWarning)\n",
      "C:\\Users\\gpozz\\.conda\\envs\\Datascience\\lib\\site-packages\\sklearn\\model_selection\\_validation.py:536: FitFailedWarning: Estimator fit failed. The score on this train-test partition for these parameters will be set to 0.000000. Details: \n",
      "ValueError: Unsupported set of arguments: The combination of penalty='l1' and loss='squared_hinge' are not supported when dual=True, Parameters: penalty='l1', loss='squared_hinge', dual=True\n",
      "\n",
      "  FitFailedWarning)\n",
      "C:\\Users\\gpozz\\.conda\\envs\\Datascience\\lib\\site-packages\\sklearn\\model_selection\\_validation.py:536: FitFailedWarning: Estimator fit failed. The score on this train-test partition for these parameters will be set to 0.000000. Details: \n",
      "ValueError: Unsupported set of arguments: The combination of penalty='l1' and loss='squared_hinge' are not supported when dual=True, Parameters: penalty='l1', loss='squared_hinge', dual=True\n",
      "\n",
      "  FitFailedWarning)\n",
      "C:\\Users\\gpozz\\.conda\\envs\\Datascience\\lib\\site-packages\\sklearn\\svm\\_base.py:947: ConvergenceWarning: Liblinear failed to converge, increase the number of iterations.\n",
      "  \"the number of iterations.\", ConvergenceWarning)\n",
      "C:\\Users\\gpozz\\.conda\\envs\\Datascience\\lib\\site-packages\\sklearn\\svm\\_base.py:947: ConvergenceWarning: Liblinear failed to converge, increase the number of iterations.\n",
      "  \"the number of iterations.\", ConvergenceWarning)\n",
      "C:\\Users\\gpozz\\.conda\\envs\\Datascience\\lib\\site-packages\\sklearn\\model_selection\\_validation.py:536: FitFailedWarning: Estimator fit failed. The score on this train-test partition for these parameters will be set to 0.000000. Details: \n",
      "ValueError: Unsupported set of arguments: The combination of penalty='l1' and loss='hinge' is not supported, Parameters: penalty='l1', loss='hinge', dual=True\n",
      "\n",
      "  FitFailedWarning)\n",
      "C:\\Users\\gpozz\\.conda\\envs\\Datascience\\lib\\site-packages\\sklearn\\model_selection\\_validation.py:536: FitFailedWarning: Estimator fit failed. The score on this train-test partition for these parameters will be set to 0.000000. Details: \n",
      "ValueError: Unsupported set of arguments: The combination of penalty='l1' and loss='hinge' is not supported, Parameters: penalty='l1', loss='hinge', dual=True\n",
      "\n",
      "  FitFailedWarning)\n",
      "C:\\Users\\gpozz\\.conda\\envs\\Datascience\\lib\\site-packages\\sklearn\\model_selection\\_validation.py:536: FitFailedWarning: Estimator fit failed. The score on this train-test partition for these parameters will be set to 0.000000. Details: \n",
      "ValueError: Unsupported set of arguments: The combination of penalty='l1' and loss='hinge' is not supported, Parameters: penalty='l1', loss='hinge', dual=True\n",
      "\n",
      "  FitFailedWarning)\n",
      "C:\\Users\\gpozz\\.conda\\envs\\Datascience\\lib\\site-packages\\sklearn\\model_selection\\_validation.py:536: FitFailedWarning: Estimator fit failed. The score on this train-test partition for these parameters will be set to 0.000000. Details: \n",
      "ValueError: Unsupported set of arguments: The combination of penalty='l1' and loss='hinge' is not supported, Parameters: penalty='l1', loss='hinge', dual=True\n",
      "\n",
      "  FitFailedWarning)\n",
      "C:\\Users\\gpozz\\.conda\\envs\\Datascience\\lib\\site-packages\\sklearn\\svm\\_base.py:947: ConvergenceWarning: Liblinear failed to converge, increase the number of iterations.\n",
      "  \"the number of iterations.\", ConvergenceWarning)\n",
      "C:\\Users\\gpozz\\.conda\\envs\\Datascience\\lib\\site-packages\\sklearn\\svm\\_base.py:947: ConvergenceWarning: Liblinear failed to converge, increase the number of iterations.\n",
      "  \"the number of iterations.\", ConvergenceWarning)\n",
      "C:\\Users\\gpozz\\.conda\\envs\\Datascience\\lib\\site-packages\\sklearn\\svm\\_base.py:947: ConvergenceWarning: Liblinear failed to converge, increase the number of iterations.\n",
      "  \"the number of iterations.\", ConvergenceWarning)\n",
      "C:\\Users\\gpozz\\.conda\\envs\\Datascience\\lib\\site-packages\\sklearn\\svm\\_base.py:947: ConvergenceWarning: Liblinear failed to converge, increase the number of iterations.\n",
      "  \"the number of iterations.\", ConvergenceWarning)\n",
      "C:\\Users\\gpozz\\.conda\\envs\\Datascience\\lib\\site-packages\\sklearn\\model_selection\\_validation.py:536: FitFailedWarning: Estimator fit failed. The score on this train-test partition for these parameters will be set to 0.000000. Details: \n",
      "ValueError: Unsupported set of arguments: The combination of penalty='l1' and loss='squared_hinge' are not supported when dual=True, Parameters: penalty='l1', loss='squared_hinge', dual=True\n",
      "\n",
      "  FitFailedWarning)\n",
      "C:\\Users\\gpozz\\.conda\\envs\\Datascience\\lib\\site-packages\\sklearn\\model_selection\\_validation.py:536: FitFailedWarning: Estimator fit failed. The score on this train-test partition for these parameters will be set to 0.000000. Details: \n",
      "ValueError: Unsupported set of arguments: The combination of penalty='l1' and loss='squared_hinge' are not supported when dual=True, Parameters: penalty='l1', loss='squared_hinge', dual=True\n",
      "\n",
      "  FitFailedWarning)\n",
      "C:\\Users\\gpozz\\.conda\\envs\\Datascience\\lib\\site-packages\\sklearn\\model_selection\\_validation.py:536: FitFailedWarning: Estimator fit failed. The score on this train-test partition for these parameters will be set to 0.000000. Details: \n",
      "ValueError: Unsupported set of arguments: The combination of penalty='l1' and loss='squared_hinge' are not supported when dual=True, Parameters: penalty='l1', loss='squared_hinge', dual=True\n",
      "\n",
      "  FitFailedWarning)\n"
     ]
    },
    {
     "name": "stderr",
     "output_type": "stream",
     "text": [
      "C:\\Users\\gpozz\\.conda\\envs\\Datascience\\lib\\site-packages\\sklearn\\model_selection\\_validation.py:536: FitFailedWarning: Estimator fit failed. The score on this train-test partition for these parameters will be set to 0.000000. Details: \n",
      "ValueError: Unsupported set of arguments: The combination of penalty='l1' and loss='squared_hinge' are not supported when dual=True, Parameters: penalty='l1', loss='squared_hinge', dual=True\n",
      "\n",
      "  FitFailedWarning)\n",
      "C:\\Users\\gpozz\\.conda\\envs\\Datascience\\lib\\site-packages\\sklearn\\svm\\_base.py:947: ConvergenceWarning: Liblinear failed to converge, increase the number of iterations.\n",
      "  \"the number of iterations.\", ConvergenceWarning)\n",
      "C:\\Users\\gpozz\\.conda\\envs\\Datascience\\lib\\site-packages\\sklearn\\svm\\_base.py:947: ConvergenceWarning: Liblinear failed to converge, increase the number of iterations.\n",
      "  \"the number of iterations.\", ConvergenceWarning)\n",
      "C:\\Users\\gpozz\\.conda\\envs\\Datascience\\lib\\site-packages\\sklearn\\svm\\_base.py:947: ConvergenceWarning: Liblinear failed to converge, increase the number of iterations.\n",
      "  \"the number of iterations.\", ConvergenceWarning)\n",
      "C:\\Users\\gpozz\\.conda\\envs\\Datascience\\lib\\site-packages\\sklearn\\svm\\_base.py:947: ConvergenceWarning: Liblinear failed to converge, increase the number of iterations.\n",
      "  \"the number of iterations.\", ConvergenceWarning)\n",
      "C:\\Users\\gpozz\\.conda\\envs\\Datascience\\lib\\site-packages\\sklearn\\model_selection\\_validation.py:536: FitFailedWarning: Estimator fit failed. The score on this train-test partition for these parameters will be set to 0.000000. Details: \n",
      "ValueError: Unsupported set of arguments: The combination of penalty='l1' and loss='hinge' is not supported, Parameters: penalty='l1', loss='hinge', dual=True\n",
      "\n",
      "  FitFailedWarning)\n",
      "C:\\Users\\gpozz\\.conda\\envs\\Datascience\\lib\\site-packages\\sklearn\\model_selection\\_validation.py:536: FitFailedWarning: Estimator fit failed. The score on this train-test partition for these parameters will be set to 0.000000. Details: \n",
      "ValueError: Unsupported set of arguments: The combination of penalty='l1' and loss='hinge' is not supported, Parameters: penalty='l1', loss='hinge', dual=True\n",
      "\n",
      "  FitFailedWarning)\n",
      "C:\\Users\\gpozz\\.conda\\envs\\Datascience\\lib\\site-packages\\sklearn\\model_selection\\_validation.py:536: FitFailedWarning: Estimator fit failed. The score on this train-test partition for these parameters will be set to 0.000000. Details: \n",
      "ValueError: Unsupported set of arguments: The combination of penalty='l1' and loss='hinge' is not supported, Parameters: penalty='l1', loss='hinge', dual=True\n",
      "\n",
      "  FitFailedWarning)\n",
      "C:\\Users\\gpozz\\.conda\\envs\\Datascience\\lib\\site-packages\\sklearn\\model_selection\\_validation.py:536: FitFailedWarning: Estimator fit failed. The score on this train-test partition for these parameters will be set to 0.000000. Details: \n",
      "ValueError: Unsupported set of arguments: The combination of penalty='l1' and loss='hinge' is not supported, Parameters: penalty='l1', loss='hinge', dual=True\n",
      "\n",
      "  FitFailedWarning)\n",
      "C:\\Users\\gpozz\\.conda\\envs\\Datascience\\lib\\site-packages\\sklearn\\svm\\_base.py:947: ConvergenceWarning: Liblinear failed to converge, increase the number of iterations.\n",
      "  \"the number of iterations.\", ConvergenceWarning)\n",
      "C:\\Users\\gpozz\\.conda\\envs\\Datascience\\lib\\site-packages\\sklearn\\svm\\_base.py:947: ConvergenceWarning: Liblinear failed to converge, increase the number of iterations.\n",
      "  \"the number of iterations.\", ConvergenceWarning)\n",
      "C:\\Users\\gpozz\\.conda\\envs\\Datascience\\lib\\site-packages\\sklearn\\svm\\_base.py:947: ConvergenceWarning: Liblinear failed to converge, increase the number of iterations.\n",
      "  \"the number of iterations.\", ConvergenceWarning)\n",
      "C:\\Users\\gpozz\\.conda\\envs\\Datascience\\lib\\site-packages\\sklearn\\svm\\_base.py:947: ConvergenceWarning: Liblinear failed to converge, increase the number of iterations.\n",
      "  \"the number of iterations.\", ConvergenceWarning)\n",
      "C:\\Users\\gpozz\\.conda\\envs\\Datascience\\lib\\site-packages\\sklearn\\model_selection\\_validation.py:536: FitFailedWarning: Estimator fit failed. The score on this train-test partition for these parameters will be set to 0.000000. Details: \n",
      "ValueError: Unsupported set of arguments: The combination of penalty='l1' and loss='squared_hinge' are not supported when dual=True, Parameters: penalty='l1', loss='squared_hinge', dual=True\n",
      "\n",
      "  FitFailedWarning)\n",
      "C:\\Users\\gpozz\\.conda\\envs\\Datascience\\lib\\site-packages\\sklearn\\model_selection\\_validation.py:536: FitFailedWarning: Estimator fit failed. The score on this train-test partition for these parameters will be set to 0.000000. Details: \n",
      "ValueError: Unsupported set of arguments: The combination of penalty='l1' and loss='squared_hinge' are not supported when dual=True, Parameters: penalty='l1', loss='squared_hinge', dual=True\n",
      "\n",
      "  FitFailedWarning)\n",
      "C:\\Users\\gpozz\\.conda\\envs\\Datascience\\lib\\site-packages\\sklearn\\model_selection\\_validation.py:536: FitFailedWarning: Estimator fit failed. The score on this train-test partition for these parameters will be set to 0.000000. Details: \n",
      "ValueError: Unsupported set of arguments: The combination of penalty='l1' and loss='squared_hinge' are not supported when dual=True, Parameters: penalty='l1', loss='squared_hinge', dual=True\n",
      "\n",
      "  FitFailedWarning)\n",
      "C:\\Users\\gpozz\\.conda\\envs\\Datascience\\lib\\site-packages\\sklearn\\model_selection\\_validation.py:536: FitFailedWarning: Estimator fit failed. The score on this train-test partition for these parameters will be set to 0.000000. Details: \n",
      "ValueError: Unsupported set of arguments: The combination of penalty='l1' and loss='squared_hinge' are not supported when dual=True, Parameters: penalty='l1', loss='squared_hinge', dual=True\n",
      "\n",
      "  FitFailedWarning)\n",
      "C:\\Users\\gpozz\\.conda\\envs\\Datascience\\lib\\site-packages\\sklearn\\svm\\_base.py:947: ConvergenceWarning: Liblinear failed to converge, increase the number of iterations.\n",
      "  \"the number of iterations.\", ConvergenceWarning)\n",
      "C:\\Users\\gpozz\\.conda\\envs\\Datascience\\lib\\site-packages\\sklearn\\svm\\_base.py:947: ConvergenceWarning: Liblinear failed to converge, increase the number of iterations.\n",
      "  \"the number of iterations.\", ConvergenceWarning)\n",
      "C:\\Users\\gpozz\\.conda\\envs\\Datascience\\lib\\site-packages\\sklearn\\svm\\_base.py:947: ConvergenceWarning: Liblinear failed to converge, increase the number of iterations.\n",
      "  \"the number of iterations.\", ConvergenceWarning)\n",
      "C:\\Users\\gpozz\\.conda\\envs\\Datascience\\lib\\site-packages\\sklearn\\svm\\_base.py:947: ConvergenceWarning: Liblinear failed to converge, increase the number of iterations.\n",
      "  \"the number of iterations.\", ConvergenceWarning)\n"
     ]
    },
    {
     "name": "stdout",
     "output_type": "stream",
     "text": [
      "{'C': 500, 'loss': 'hinge', 'penalty': 'l2', 'tol': 0.01}\n"
     ]
    },
    {
     "name": "stderr",
     "output_type": "stream",
     "text": [
      "C:\\Users\\gpozz\\.conda\\envs\\Datascience\\lib\\site-packages\\sklearn\\svm\\_base.py:947: ConvergenceWarning: Liblinear failed to converge, increase the number of iterations.\n",
      "  \"the number of iterations.\", ConvergenceWarning)\n"
     ]
    }
   ],
   "source": [
    "svc_opt = LinearSVC() \n",
    "\n",
    "parameters =  {'C': [0.001, 10, 25, 100, 500],\n",
    "                'penalty':['l1','l2'],\n",
    "                'tol': [1e-2, 1e-4],\n",
    "                'loss': ['hinge', 'squared_hinge']}              \n",
    "\n",
    "\n",
    "CV_svc = GridSearchCV(estimator=svc_opt, param_grid=parameters, cv= 2,error_score=0.0)\n",
    "CV_svc.fit(X_train, y_train)\n",
    "print(CV_svc.best_params_)"
   ]
  },
  {
   "cell_type": "markdown",
   "metadata": {},
   "source": [
    "We can see that the new optimized hyperparameters will be:\n",
    "- `C`: **500**\n",
    "- `loss`: **'hinge'**\n",
    "- `penalty`: **'l2'**\n",
    "- `tol`: **0.01**\n",
    "\n",
    "So, I retrain the optimized SVC model with the results obtained:"
   ]
  },
  {
   "cell_type": "code",
   "execution_count": 17,
   "metadata": {},
   "outputs": [
    {
     "name": "stderr",
     "output_type": "stream",
     "text": [
      "C:\\Users\\gpozz\\.conda\\envs\\Datascience\\lib\\site-packages\\sklearn\\svm\\_base.py:947: ConvergenceWarning: Liblinear failed to converge, increase the number of iterations.\n",
      "  \"the number of iterations.\", ConvergenceWarning)\n"
     ]
    },
    {
     "name": "stdout",
     "output_type": "stream",
     "text": [
      "Accuracy train binary optimized LinearSVC:  0.902525\n",
      "Accuracy test binary optimized LinearSVC:  0.9015\n"
     ]
    },
    {
     "data": {
      "image/png": "[encoded data removed]",
      "text/plain": [
       "<Figure size 576x576 with 2 Axes>"
      ]
     },
     "metadata": {
      "needs_background": "light"
     },
     "output_type": "display_data"
    }
   ],
   "source": [
    "svc_opt = LinearSVC(C=500,loss='hinge',penalty='l2',tol = 0.01)\n",
    "svc_opt.fit(X_train, y_train)\n",
    "\n",
    "y_train_pred_opt= svc_opt.predict(X_train)\n",
    "y_test_pred_opt = svc_opt.predict(X_test)\n",
    "\n",
    "print(\"Accuracy train binary optimized LinearSVC: \", accuracy_score(y_train, y_train_pred))\n",
    "print(\"Accuracy test binary optimized LinearSVC: \", accuracy_score(y_test, y_test_pred))\n",
    "\n",
    "score=[\"Positive\",\"Negative\"]\n",
    "cm = confusion_matrix(y_test,y_test_pred_opt)\n",
    "f,ax = plt.subplots(figsize=(8,8))\n",
    "sns.heatmap(cm, square = True, annot=True, fmt= '.0f',annot_kws={'size': 13}, cmap= 'RdYlGn',ax=ax)\n",
    "\n",
    "plt.xlabel(\"Actual\", size =20)\n",
    "plt.ylabel(\"Predicted\", size =20)\n",
    "ax.set_xticklabels(score)\n",
    "ax.set_yticklabels(score)\n",
    "plt.show()"
   ]
  },
  {
   "cell_type": "markdown",
   "metadata": {},
   "source": [
    "Although the hyperparameters were optimized, the gain is imperceptible, deepening the bias by a small amount, since it generates some more false negatives and more true positives.\n",
    "\n",
    "I will again plot the frequency of each unigram, bigram, or trigram in positive reviews."
   ]
  },
  {
   "cell_type": "code",
   "execution_count": 18,
   "metadata": {},
   "outputs": [
    {
     "data": {
      "image/png": "[encoded data removed]",
      "text/plain": [
       "<Figure size 720x576 with 1 Axes>"
      ]
     },
     "metadata": {
      "needs_background": "light"
     },
     "output_type": "display_data"
    }
   ],
   "source": [
    "all_words = tfidf.get_feature_names()\n",
    "\n",
    "coef = list(svc_opt.coef_[0])\n",
    "label = list(all_words)\n",
    "words = pd.DataFrame()\n",
    "words['Features'] = label\n",
    "words['Importance'] = coef\n",
    "features = words.reset_index(drop=True)\n",
    "sorted_words = features.sort_values(by=['Importance'], ascending=False)\n",
    "sorted_words = sorted_words.reset_index(drop=True)\n",
    "data_plot = pd.concat([sorted_words.head(10), sorted_words.tail(10)])\n",
    "data_plot.sort_values(by=['Importance'], ascending=False, inplace = True)\n",
    "data_plot['positive'] = data_plot['Importance'] > 0\n",
    "data_plot.set_index('Features', inplace = True)\n",
    "data_plot.Importance.plot(kind='bar', figsize = (10,8),\n",
    "                          color = data_plot.positive.map({True: 'green', False: 'red'}),\n",
    "                          fontsize=12)\n",
    "plt.xlabel ('', fontsize=12)\n",
    "plt.ylabel ('Importance', rotation = 90, fontsize=12)\n",
    "plt.title ('10 most frequent expressions for positive reviews', fontsize=15)\n",
    "plt.show()"
   ]
  },
  {
   "cell_type": "markdown",
   "metadata": {},
   "source": [
    "In the next cell, some random 3-star reviews will be classified according to the score (positive or negative) that the developed model predicts for them."
   ]
  },
  {
   "cell_type": "code",
   "execution_count": 19,
   "metadata": {},
   "outputs": [
    {
     "name": "stdout",
     "output_type": "stream",
     "text": [
      "Review:  gracioso a mi nieta de dos años le encanto. pero las canciones solo han durado un día. el botoncito del ala es muy delicado y ya no funciona y no canta. si que funciona y le divierte cuando repite lo que dices. lastima que sea tan poco duradero, pues es muy gracioso. - Score:  Negative\n",
      "Review:  tardaron lo indecible ya lo daba por perdido... - Score:  Negative\n",
      "Review:  se estropea rápido el teléfono me encanta pero tiene 15 días y ya me ha fallado la pantalla... - Score:  Negative\n",
      "Review:  tiene buena calidad. el manual de instruciones no esta en español. - Score:  Negative\n",
      "Review:  realmente no podía pedir más el producto no es nada del otro mundo, al fin y al cabo por el precio que tiene no puedes esperar un papel de 100 gramos, pero las hojas son muy finas, incluso se transparenta la tinta de la pagina siguiente si hay un poco de luz solar. el encuadernado es de tapa dura y muy bonito, así que no tiene nada de malo. en general, por su precio-calidad está bien. - Score:  Negative\n"
     ]
    }
   ],
   "source": [
    "df_amazon_bin = pd.concat([df_p4,df_test_p4,df_train_p4],axis=0)\n",
    "df_amazon_bin = df_amazon_bin[df_amazon_bin['stars']==3]\n",
    "df_amazon_bin.reset_index(inplace=True)\n",
    "\n",
    "for i in range(1,6):\n",
    "    n = random.randint(df_amazon_bin.index[0],df_amazon_bin.index[-1])\n",
    "    review = df_amazon_bin['full_review'][n]\n",
    "    review = [review]\n",
    "    matrix= tfidf.transform(review)\n",
    "    matrix = matrix.astype('float32')\n",
    "    X = matrix.toarray()\n",
    "    y_train_pred_test = svc_opt.predict(X)\n",
    "    if y_train_pred_test == 0:\n",
    "        y_train_pred_test = \"Positive\"\n",
    "    else:\n",
    "        y_train_pred_test = \"Negative\"\n",
    "    print('Review: ',review[0], '- Score: ',y_train_pred_test)"
   ]
  },
  {
   "cell_type": "markdown",
   "metadata": {},
   "source": [
    "## 4. Analysis: 3-star reviews\n",
    "\n",
    "In this section, I will analyze the 3-star reviews by applying to them the algorithm obtained to visualize how many of them could be classified as negative and how many as positive.\n",
    "\n",
    "Next, I will append the prediction of the model to the original dataframe, by replacing the result 1 with the text \"Negative\" and 5 with the text \"Positive\" in order to more easily visualize the results obtained."
   ]
  },
  {
   "cell_type": "code",
   "execution_count": 20,
   "metadata": {},
   "outputs": [
    {
     "name": "stdout",
     "output_type": "stream",
     "text": [
      "There are  17467  positive 3-star reviews\n",
      "There are  24533  negative 3-star reviews\n"
     ]
    }
   ],
   "source": [
    "df_amazon_bin2 = pd.concat([df_p4,df_test_p4,df_train_p4],axis=0)\n",
    "df_amazon_bin2.reset_index(drop=True,inplace=True)\n",
    "df_amazon_bin2['Pred']=''\n",
    "\n",
    "for i in range(0,df_amazon_bin2.shape[0]):\n",
    "    review = df_amazon_bin2['full_review_tk'][i]\n",
    "    review = [review]\n",
    "    matrix= tfidf.transform(review)\n",
    "    matrix = matrix.astype('float32')\n",
    "    X = matrix.toarray()\n",
    "    y_train_pred_test = svc_opt.predict(X)\n",
    "    df_amazon_bin2['Pred'][i] = int(y_train_pred_test)\n",
    "    \n",
    "    \n",
    "df_amazon_bin2['Pred'] = df_amazon_bin2.Pred.replace(to_replace =1, \n",
    "                            value =\"Negative\")\n",
    "df_amazon_bin2['Pred'] = df_amazon_bin2.Pred.replace(to_replace =5, \n",
    "                            value =\"Positive\")\n",
    "\n",
    "df_amazon_bin_3s = df_amazon_bin2[df_amazon_bin2['stars']==3]\n",
    "print('There are ',str(df_amazon_bin_3s[df_amazon_bin_3s['Pred']=='Positive'].shape[0]),' positive 3-star reviews')\n",
    "print('There are ',str(df_amazon_bin_3s[df_amazon_bin_3s['Pred']=='Negative'].shape[0]),' negative 3-star reviews')"
   ]
  },
  {
   "cell_type": "markdown",
   "metadata": {},
   "source": [
    "We can see that, in general terms, users who score 3 stars to a greater extent \"forgive\" the quality of the products since, although their scores indicate a neutral rating, their reviews indicate a mostly negative perception.\n",
    "\n",
    "In the next table and in order to answer the question indicated in the introduction, I will group the reviews with a neutral score (**3 stars**) by category and predict their rating. I will store the ratio of positive to negative reviews in the \"Bias\" column. This should be a good indicator of the indulgence with which users rate the quality of the products purchased, a higher score being an indication that in the event of a bad perception the user scores neutral so as not to harm the seller's reputation."
   ]
  },
  {
   "cell_type": "code",
   "execution_count": 22,
   "metadata": {},
   "outputs": [
    {
     "data": {
      "text/html": [
       "<div>\n",
       "<style scoped>\n",
       "    .dataframe tbody tr th:only-of-type {\n",
       "        vertical-align: middle;\n",
       "    }\n",
       "\n",
       "    .dataframe tbody tr th {\n",
       "        vertical-align: top;\n",
       "    }\n",
       "\n",
       "    .dataframe thead th {\n",
       "        text-align: right;\n",
       "    }\n",
       "</style>\n",
       "<table border=\"1\" class=\"dataframe\">\n",
       "  <thead>\n",
       "    <tr style=\"text-align: right;\">\n",
       "      <th></th>\n",
       "      <th>Positives</th>\n",
       "      <th>Negatives</th>\n",
       "      <th>Bias</th>\n",
       "    </tr>\n",
       "    <tr>\n",
       "      <th>product_category</th>\n",
       "      <th></th>\n",
       "      <th></th>\n",
       "      <th></th>\n",
       "    </tr>\n",
       "  </thead>\n",
       "  <tbody>\n",
       "    <tr>\n",
       "      <th>beauty</th>\n",
       "      <td>545</td>\n",
       "      <td>1068</td>\n",
       "      <td>1.959633</td>\n",
       "    </tr>\n",
       "    <tr>\n",
       "      <th>shoes</th>\n",
       "      <td>201</td>\n",
       "      <td>386</td>\n",
       "      <td>1.920398</td>\n",
       "    </tr>\n",
       "    <tr>\n",
       "      <th>video_games</th>\n",
       "      <td>121</td>\n",
       "      <td>193</td>\n",
       "      <td>1.595041</td>\n",
       "    </tr>\n",
       "    <tr>\n",
       "      <th>drugstore</th>\n",
       "      <td>450</td>\n",
       "      <td>702</td>\n",
       "      <td>1.560000</td>\n",
       "    </tr>\n",
       "    <tr>\n",
       "      <th>grocery</th>\n",
       "      <td>89</td>\n",
       "      <td>138</td>\n",
       "      <td>1.550562</td>\n",
       "    </tr>\n",
       "    <tr>\n",
       "      <th>pet_products</th>\n",
       "      <td>318</td>\n",
       "      <td>490</td>\n",
       "      <td>1.540881</td>\n",
       "    </tr>\n",
       "    <tr>\n",
       "      <th>electronics</th>\n",
       "      <td>796</td>\n",
       "      <td>1192</td>\n",
       "      <td>1.497487</td>\n",
       "    </tr>\n",
       "    <tr>\n",
       "      <th>wireless</th>\n",
       "      <td>2023</td>\n",
       "      <td>3023</td>\n",
       "      <td>1.494315</td>\n",
       "    </tr>\n",
       "    <tr>\n",
       "      <th>toy</th>\n",
       "      <td>1268</td>\n",
       "      <td>1865</td>\n",
       "      <td>1.470820</td>\n",
       "    </tr>\n",
       "    <tr>\n",
       "      <th>other</th>\n",
       "      <td>329</td>\n",
       "      <td>483</td>\n",
       "      <td>1.468085</td>\n",
       "    </tr>\n",
       "    <tr>\n",
       "      <th>baby_product</th>\n",
       "      <td>451</td>\n",
       "      <td>660</td>\n",
       "      <td>1.463415</td>\n",
       "    </tr>\n",
       "    <tr>\n",
       "      <th>kitchen</th>\n",
       "      <td>552</td>\n",
       "      <td>798</td>\n",
       "      <td>1.445652</td>\n",
       "    </tr>\n",
       "    <tr>\n",
       "      <th>apparel</th>\n",
       "      <td>523</td>\n",
       "      <td>740</td>\n",
       "      <td>1.414914</td>\n",
       "    </tr>\n",
       "    <tr>\n",
       "      <th>personal_care_appliances</th>\n",
       "      <td>297</td>\n",
       "      <td>419</td>\n",
       "      <td>1.410774</td>\n",
       "    </tr>\n",
       "    <tr>\n",
       "      <th>automotive</th>\n",
       "      <td>647</td>\n",
       "      <td>909</td>\n",
       "      <td>1.404946</td>\n",
       "    </tr>\n",
       "    <tr>\n",
       "      <th>home</th>\n",
       "      <td>2395</td>\n",
       "      <td>3363</td>\n",
       "      <td>1.404175</td>\n",
       "    </tr>\n",
       "    <tr>\n",
       "      <th>lawn_and_garden</th>\n",
       "      <td>352</td>\n",
       "      <td>492</td>\n",
       "      <td>1.397727</td>\n",
       "    </tr>\n",
       "    <tr>\n",
       "      <th>jewelry</th>\n",
       "      <td>159</td>\n",
       "      <td>213</td>\n",
       "      <td>1.339623</td>\n",
       "    </tr>\n",
       "    <tr>\n",
       "      <th>pc</th>\n",
       "      <td>907</td>\n",
       "      <td>1173</td>\n",
       "      <td>1.293275</td>\n",
       "    </tr>\n",
       "    <tr>\n",
       "      <th>sports</th>\n",
       "      <td>1292</td>\n",
       "      <td>1657</td>\n",
       "      <td>1.282508</td>\n",
       "    </tr>\n",
       "    <tr>\n",
       "      <th>luggage</th>\n",
       "      <td>307</td>\n",
       "      <td>393</td>\n",
       "      <td>1.280130</td>\n",
       "    </tr>\n",
       "    <tr>\n",
       "      <th>musical_instruments</th>\n",
       "      <td>139</td>\n",
       "      <td>177</td>\n",
       "      <td>1.273381</td>\n",
       "    </tr>\n",
       "    <tr>\n",
       "      <th>furniture</th>\n",
       "      <td>525</td>\n",
       "      <td>654</td>\n",
       "      <td>1.245714</td>\n",
       "    </tr>\n",
       "    <tr>\n",
       "      <th>digital_ebook_purchase</th>\n",
       "      <td>207</td>\n",
       "      <td>255</td>\n",
       "      <td>1.231884</td>\n",
       "    </tr>\n",
       "    <tr>\n",
       "      <th>book</th>\n",
       "      <td>471</td>\n",
       "      <td>575</td>\n",
       "      <td>1.220807</td>\n",
       "    </tr>\n",
       "    <tr>\n",
       "      <th>home_improvement</th>\n",
       "      <td>1042</td>\n",
       "      <td>1268</td>\n",
       "      <td>1.216891</td>\n",
       "    </tr>\n",
       "    <tr>\n",
       "      <th>camera</th>\n",
       "      <td>289</td>\n",
       "      <td>344</td>\n",
       "      <td>1.190311</td>\n",
       "    </tr>\n",
       "    <tr>\n",
       "      <th>office_product</th>\n",
       "      <td>463</td>\n",
       "      <td>551</td>\n",
       "      <td>1.190065</td>\n",
       "    </tr>\n",
       "    <tr>\n",
       "      <th>watch</th>\n",
       "      <td>142</td>\n",
       "      <td>163</td>\n",
       "      <td>1.147887</td>\n",
       "    </tr>\n",
       "    <tr>\n",
       "      <th>industrial_supplies</th>\n",
       "      <td>167</td>\n",
       "      <td>189</td>\n",
       "      <td>1.131737</td>\n",
       "    </tr>\n",
       "  </tbody>\n",
       "</table>\n",
       "</div>"
      ],
      "text/plain": [
       "                          Positives  Negatives      Bias\n",
       "product_category                                        \n",
       "beauty                          545       1068  1.959633\n",
       "shoes                           201        386  1.920398\n",
       "video_games                     121        193  1.595041\n",
       "drugstore                       450        702  1.560000\n",
       "grocery                          89        138  1.550562\n",
       "pet_products                    318        490  1.540881\n",
       "electronics                     796       1192  1.497487\n",
       "wireless                       2023       3023  1.494315\n",
       "toy                            1268       1865  1.470820\n",
       "other                           329        483  1.468085\n",
       "baby_product                    451        660  1.463415\n",
       "kitchen                         552        798  1.445652\n",
       "apparel                         523        740  1.414914\n",
       "personal_care_appliances        297        419  1.410774\n",
       "automotive                      647        909  1.404946\n",
       "home                           2395       3363  1.404175\n",
       "lawn_and_garden                 352        492  1.397727\n",
       "jewelry                         159        213  1.339623\n",
       "pc                              907       1173  1.293275\n",
       "sports                         1292       1657  1.282508\n",
       "luggage                         307        393  1.280130\n",
       "musical_instruments             139        177  1.273381\n",
       "furniture                       525        654  1.245714\n",
       "digital_ebook_purchase          207        255  1.231884\n",
       "book                            471        575  1.220807\n",
       "home_improvement               1042       1268  1.216891\n",
       "camera                          289        344  1.190311\n",
       "office_product                  463        551  1.190065\n",
       "watch                           142        163  1.147887\n",
       "industrial_supplies             167        189  1.131737"
      ]
     },
     "execution_count": 22,
     "metadata": {},
     "output_type": "execute_result"
    }
   ],
   "source": [
    "dfpos = df_amazon_bin_3s[df_amazon_bin_3s['Pred']==\"Positive\"].groupby(by=['product_category']).count()[['Pred']]\n",
    "dfall = dfpos.merge(df_amazon_bin_3s[df_amazon_bin_3s['Pred']==\"Negative\"].groupby(by=['product_category']).count()[['Pred']],how='outer', left_index=True, right_index=True)\n",
    "dfall.rename(columns={'Pred_x':'Positives','Pred_y':'Negatives'},inplace=True)\n",
    "dfall['Bias'] = dfall['Negatives']/dfall['Positives']\n",
    "dfall.sort_values(by='Bias',ascending=False)"
   ]
  },
  {
   "cell_type": "markdown",
   "metadata": {},
   "source": [
    "The 5 categories that users tend to \"forgive\" the most are:\n",
    "- `beauty`\n",
    "- `shoes`\n",
    "- `video_games`\n",
    "- `drugstore`\n",
    "- `grocery`"
   ]
  },
  {
   "cell_type": "markdown",
   "metadata": {},
   "source": [
    "# 5. Conclusions\n",
    "\n",
    "- We can observe that what the model loses in detail when changing to a binary classification it gains in greater robustness of its predictions.\n",
    "\n",
    "- Within the \"neutral\" reviews (3 stars) we can see a marked bias of users to classify apparently negative reviews as neutral, more pronounced in the categories `shoes`, `beauty`, `grocery`, `pet_products` and `wireless`. There are no categories in which the bias is inverse, so it is expected that the user, faced with little-above-average experience, tends to rate it with 4 stars, while if the experience is not very satisfactory, it tends to qualify it as neutral (3 stars).\n",
    "\n",
    "- Without necessarily substituting 5-star ratings, some benefits of implementing an algorithm that rates reviews in a binary way could be:\n",
    "    - It can serve to penalize the score of poorly rated reviews, where the user writes a mostly positive text and presses 1\n",
    "    or 2 stars, or vice versa.\n",
    "    - It allows to identify users that are consistently generous or, on the contrary, too demanding with the scores to qualify their opinion in the final score and improve its quality.\n",
    "    - It can be used to identify perception bias of certain categories. Thus, if a category has a marked tendency to undervalue products (with a greater number of positive opinions on neutral scores), the opinion of users about this category could be nuanced, compensating for this bias in some way in the calculation of the product score / seller. In this way, seller ratings from different categories could be comparable to each other and identify the best ones, allowing to compensate them or offer partnerships and other benefits for offering good customer experiences.\n",
    "\n",
    "Finally, it should be mentioned that there is room for improvement for the model, although the accuracy obtained is satisfactory for the utility that it is intended to provide."
   ]
  }
 ],
 "metadata": {
  "colab": {
   "collapsed_sections": [],
   "name": "DS_Proyecto_03_NLP.ipynb",
   "provenance": []
  },
  "kernelspec": {
   "display_name": "Python 3",
   "language": "python",
   "name": "python3"
  },
  "language_info": {
   "codemirror_mode": {
    "name": "ipython",
    "version": 3
   },
   "file_extension": ".py",
   "mimetype": "text/x-python",
   "name": "python",
   "nbconvert_exporter": "python",
   "pygments_lexer": "ipython3",
   "version": "3.7.7"
  }
 },
 "nbformat": 4,
 "nbformat_minor": 4
}
